{
 "cells": [
  {
   "cell_type": "code",
   "execution_count": 2,
   "metadata": {},
   "outputs": [],
   "source": [
    "proj_dir = 'D:/Projects/MIDS/w266/final_project/'\n",
    "\n",
    "BERT_BASE_DIR = proj_dir + '/bert/models/chinese_L-12_H-768_A-12'\n",
    "TMP = 'C:/tmp'"
   ]
  },
  {
   "cell_type": "code",
   "execution_count": 3,
   "metadata": {},
   "outputs": [],
   "source": [
    "import sys\n",
    "import os\n",
    "sys.path.append(proj_dir)\n",
    "os.chdir(proj_dir)"
   ]
  },
  {
   "cell_type": "code",
   "execution_count": 4,
   "metadata": {},
   "outputs": [],
   "source": [
    "import pandas as pd\n",
    "import numpy as np\n",
    "from sklearn.model_selection import train_test_split\n",
    "from sklearn.utils import shuffle"
   ]
  },
  {
   "cell_type": "code",
   "execution_count": 5,
   "metadata": {},
   "outputs": [],
   "source": [
    "## Split test, train and dev data"
   ]
  },
  {
   "cell_type": "code",
   "execution_count": 6,
   "metadata": {},
   "outputs": [],
   "source": [
    "## by category\n",
    "csc_dir = 'data/raw/chnsenticorp/'\n",
    "\n",
    "category = {'ctrip': 'Ctrip_htl_4000/Ctrip_htl_ba_4000/',\n",
    "            'dangdang': 'Dangdang_Book_4000/',\n",
    "            'jingdong': 'Jingdong_NB_4000/'}\n",
    "\n",
    "label = {'pos': '1', 'neg': '0'}\n",
    "\n",
    "def load_contents(cat, sent):\n",
    "    contents = []\n",
    "    file_dir = csc_dir + category[cat] + sent + '/'\n",
    "    files = os.listdir(file_dir)\n",
    "    for fn in files:\n",
    "        with open(file_dir + fn, 'r') as f:\n",
    "            try:\n",
    "                s = f.read()\n",
    "                s = s.replace('\\n', '') + '\\t' + label[sent] + '\\n'\n",
    "                contents.append(s)\n",
    "            except:\n",
    "                continue\n",
    "    return contents"
   ]
  },
  {
   "cell_type": "code",
   "execution_count": 7,
   "metadata": {},
   "outputs": [],
   "source": [
    "ctrip_pos = load_contents('ctrip', 'pos')\n",
    "ctrip_neg = load_contents('ctrip', 'neg')\n",
    "\n",
    "dangdang_pos = load_contents('dangdang', 'pos')\n",
    "dangdang_neg = load_contents('dangdang', 'neg')\n",
    "\n",
    "jingdong_pos = load_contents('jingdong', 'pos')\n",
    "jingdong_neg = load_contents('jingdong', 'neg')"
   ]
  },
  {
   "cell_type": "code",
   "execution_count": 8,
   "metadata": {},
   "outputs": [],
   "source": [
    "def split_data(cat):\n",
    "    test = []\n",
    "    train = []\n",
    "    dev = []\n",
    "    for sent in ('pos', 'neg'):\n",
    "        data = eval(\"{}_{}\".format(cat, sent))\n",
    "        X_dev, X_test = train_test_split(data, test_size=0.2, random_state=1)\n",
    "        X_train, X_dev = train_test_split(X_dev, test_size=0.2, random_state=1)\n",
    "        \n",
    "        test += X_test\n",
    "        train += X_train\n",
    "        dev += X_dev\n",
    "    \n",
    "    test = shuffle(test, random_state=1)\n",
    "    train = shuffle(train, random_state=1)\n",
    "    dev = shuffle(dev, random_state=1)\n",
    "    \n",
    "    return test, train, dev"
   ]
  },
  {
   "cell_type": "code",
   "execution_count": 9,
   "metadata": {},
   "outputs": [],
   "source": [
    "ctrip_test, ctrip_train, ctrip_dev = split_data('ctrip')\n",
    "dangdang_test, dangdang_train, dangdang_dev = split_data('dangdang')\n",
    "jingdong_test, jingdong_train, jingdong_dev = split_data('jingdong')"
   ]
  },
  {
   "cell_type": "code",
   "execution_count": 10,
   "metadata": {},
   "outputs": [],
   "source": [
    "all_test = ctrip_test + dangdang_test + jingdong_test\n",
    "all_train = ctrip_train + dangdang_train + jingdong_train\n",
    "all_dev = ctrip_dev + dangdang_dev + jingdong_dev\n",
    "\n",
    "all_test = shuffle(all_test, random_state=1)\n",
    "all_train = shuffle(all_train, random_state=1)\n",
    "all_dev = shuffle(all_dev, random_state=1)"
   ]
  },
  {
   "cell_type": "code",
   "execution_count": 14,
   "metadata": {},
   "outputs": [],
   "source": [
    "# Write files, choose the category\n",
    "valid_cats = ['ctrip', 'dangdang', 'jingdong', 'all']\n",
    "\n",
    "for ftype in ['test', 'train', 'dev']:\n",
    "    for cat in valid_cats:\n",
    "        data = eval(\"{}_{}\".format(cat, ftype))\n",
    "        fn = proj_dir + 'data/processed/csc/{cat}/{ftype}.tsv'.format(cat=cat, ftype=ftype)\n",
    "        with open(fn, 'w', encoding='utf-8') as f:\n",
    "            f.writelines(data)"
   ]
  },
  {
   "cell_type": "code",
   "execution_count": null,
   "metadata": {},
   "outputs": [],
   "source": []
  }
 ],
 "metadata": {
  "kernelspec": {
   "display_name": "Python 3",
   "language": "python",
   "name": "python3"
  },
  "language_info": {
   "codemirror_mode": {
    "name": "ipython",
    "version": 3
   },
   "file_extension": ".py",
   "mimetype": "text/x-python",
   "name": "python",
   "nbconvert_exporter": "python",
   "pygments_lexer": "ipython3",
   "version": "3.6.5"
  }
 },
 "nbformat": 4,
 "nbformat_minor": 2
}
